{
 "cells": [
  {
   "cell_type": "markdown",
   "metadata": {},
   "source": [
    "# Week 6 worksheet: More containers and sequences\n",
    "\n",
    "This week, we introduce **tuples** and **dictionaries**, two other types of *container* available in Python. We also introduce **comprehensions** as a concise way to create lists, and the related concepts of **iterables and generators**.\n",
    "\n",
    "The best way to learn programming is to write code. Don't hesitate to edit the code in the example cells, or add your own code, to test your understanding. You will find practice exercises throughout the notebook, denoted by 🚩 ***Exercise $x$:***.\n",
    "\n",
    "#### Displaying solutions\n",
    "\n",
    "Solutions will be released one week after the worksheets are released, as a new `.txt` file in the same GitHub repository. After pulling the file to your workspace (either your computer or your Noteable server), run the following cell to create clickable buttons under each exercise, which will allow you to reveal the solutions."
   ]
  },
  {
   "cell_type": "code",
   "execution_count": null,
   "metadata": {},
   "outputs": [],
   "source": [
    "%run scripts/create_widgets.py week06"
   ]
  },
  {
   "cell_type": "markdown",
   "metadata": {},
   "source": [
    "---\n",
    "## Comprehensions\n",
    "\n",
    "Comprehensions are a nice feature of Python not found in many other languages. In a sense they are a combination of sequence, for loop and if statement. They allow us to construct a new sequence from an old sequence, doing some operation for each element of the original sequence. Here is an example:"
   ]
  },
  {
   "cell_type": "code",
   "execution_count": 3,
   "metadata": {},
   "outputs": [
    {
     "name": "stdout",
     "output_type": "stream",
     "text": [
      "[2, 5, 10, 17, 26]\n"
     ]
    }
   ],
   "source": [
    "square_numbers = [1,4,9,16,25]\n",
    "square_plus1 = [x+1 for x in square_numbers]\n",
    "print(square_plus1)"
   ]
  },
  {
   "cell_type": "markdown",
   "metadata": {},
   "source": [
    "The general syntax for them is \n",
    "\n",
    "```python\n",
    "[expression for item in seq if condition]                   # if\n",
    "[expression1 if condition else expression2 for item in seq] # if-else\n",
    "```\n",
    "\n",
    "Comprehensions can make your code more compact and readable.\n",
    "\n",
    "---\n",
    "🚩 ***Exercise 1:*** Try to write the following loop in one line with a list comprehension."
   ]
  },
  {
   "cell_type": "code",
   "execution_count": 1,
   "metadata": {},
   "outputs": [
    {
     "name": "stdout",
     "output_type": "stream",
     "text": [
      "[2604, 3252, 3972, 4764, 5628, 6564, 7572, 8652, 9804]\n"
     ]
    }
   ],
   "source": [
    "#  In the sequence n**2+3 for n = 50 to 100, find the numbers which are divisors of 6\n",
    "factors6 = []\n",
    "for n in range(50,101):\n",
    "    if (n**2 + 3) % 6 == 0:\n",
    "        factors6.append(n**2 + 3)\n",
    "        \n",
    "print(factors6)"
   ]
  },
  {
   "cell_type": "code",
   "execution_count": null,
   "metadata": {},
   "outputs": [],
   "source": []
  },
  {
   "cell_type": "code",
   "execution_count": null,
   "metadata": {
    "tags": [
     "solution_cell"
    ]
   },
   "outputs": [],
   "source": [
    "%run scripts/show_solutions.py week06_ex1"
   ]
  },
  {
   "cell_type": "markdown",
   "metadata": {},
   "source": [
    "---\n",
    "Comprehensions can be **nested** in one another as well. Look at the example below where the prime numbers less than 100 are generated with one nested list comprehension:"
   ]
  },
  {
   "cell_type": "code",
   "execution_count": 18,
   "metadata": {},
   "outputs": [
    {
     "name": "stdout",
     "output_type": "stream",
     "text": [
      "[2, 3, 5, 7, 11, 13, 17, 19, 23, 29, 31, 37, 41, 43, 47, 53, 59, 61, 67, 71, 73, 79, 83, 89, 97]\n"
     ]
    }
   ],
   "source": [
    "primes = [x for x in range(2,100) if not [t for t in range(2,x) if not x%t]]\n",
    "print(primes)"
   ]
  },
  {
   "cell_type": "markdown",
   "metadata": {},
   "source": [
    "- The inner comprehension builds a list of all the factors of `x`, since `not x%t` is `True` when `x` is divisible by `t`. It gives an empty list if `x` doesn't have any factors (i.e. if `x` is prime).\n",
    "- The outer comprehension builds a list by selecting the numbers `x` up to 100 for which the inner list is empty (since `not []` is `True`)-- i.e. the numbers `x` which are prime.\n",
    "\n",
    "Here is another example: building and flattening matrices using nested comprehensions."
   ]
  },
  {
   "cell_type": "code",
   "execution_count": 36,
   "metadata": {},
   "outputs": [
    {
     "name": "stdout",
     "output_type": "stream",
     "text": [
      "I =\n",
      "[[1 0 0 0]\n",
      " [0 1 0 0]\n",
      " [0 0 1 0]\n",
      " [0 0 0 1]]\n",
      "\n",
      "A =\n",
      "[[4 1 6]\n",
      " [9 4 3]\n",
      " [5 6 8]]\n",
      "\n",
      "[4, 1, 6, 9, 4, 3, 5, 6, 8]\n",
      "[array([4, 1, 6]), array([9, 4, 3]), array([5, 6, 8])]\n"
     ]
    }
   ],
   "source": [
    "import numpy as np\n",
    "\n",
    "# Build the identity matrix\n",
    "I = np.array([[1 if i==j else 0 for i in range(4)] for j in range(4)])\n",
    "print(f'I =\\n{I}\\n')\n",
    "\n",
    "# Flatten a matrix to a list -- here, \"i\" is a list of the rows of A\n",
    "A = np.random.randint(1, 10, size=[3, 3])\n",
    "print(f'A =\\n{A}\\n')\n",
    "print([j for i in A for j in i])"
   ]
  },
  {
   "cell_type": "markdown",
   "metadata": {},
   "source": [
    "---\n",
    "🚩 ***Exercise 2:*** In one line, using comprehensions, create a list of all 24 possible (ordered) combinations of the characters `a`, `b`, `c` which are not triplets. For instance, you list should contain `'aab'` and `'cba'`, but not `'bbb'`."
   ]
  },
  {
   "cell_type": "code",
   "execution_count": null,
   "metadata": {},
   "outputs": [],
   "source": []
  },
  {
   "cell_type": "code",
   "execution_count": null,
   "metadata": {
    "tags": [
     "solution_cell"
    ]
   },
   "outputs": [],
   "source": [
    "%run scripts/show_solutions.py week06_ex2"
   ]
  },
  {
   "cell_type": "markdown",
   "metadata": {},
   "source": [
    "---\n",
    "## Tuples\n",
    "\n",
    "**Tuples** share similarities with lists; an important difference is that tuples are **immutable** --- that is, you cannot change its elements after it is defined. A tuple can be created by typing a sequence of values separated by a comma, surrounded by round brackets `(...)`. For example,\n",
    "```\n",
    "a = (4, 6, -2, 4, 0, 0)\n",
    "```\n",
    "We can access elements or subsequences of a tuple using indexing and slicing, just as for lists. Many of the functions and some of the operators we have used to operate on lists can also be used with tuples. For example:"
   ]
  },
  {
   "cell_type": "code",
   "execution_count": 31,
   "metadata": {},
   "outputs": [
    {
     "name": "stdout",
     "output_type": "stream",
     "text": [
      "Indexing:\n",
      "(-2, 4, 0, 0)\n",
      "0.122\n",
      "[(1, 2), (), (8,)]\n",
      "\n",
      "Functions:\n",
      "3\n",
      "[-2, 0, 0, 4, 4, 6]\n",
      "(-2, 0, 0, 4, 4, 6)\n",
      "[0.1, 'that', 2]\n",
      "\n",
      "Operators:\n",
      "(0.1, 'that', 2, 2, 2, (-4, 5), 2)\n",
      "(2, -0.33, 2, -0.33, 2, -0.33, 2, -0.33, 2, -0.33)\n",
      "True\n"
     ]
    }
   ],
   "source": [
    "a = (4, 6, -2, 4, 0, 0)     # A tuple of numbers\n",
    "b = ()                      # An empty tuple\n",
    "c = (2, 2, (-4, 5), 2)      # A nested tuple\n",
    "d = (0.1, 'that', 2)        # Tuples can also contain mixed data\n",
    "e = (8,)                    # A tuple with 1 element -- note the trailing comma!\n",
    "\n",
    "# We can nest tuples in lists...\n",
    "f = [(1, 2), (), e, ('this', 'maybe')]\n",
    "\n",
    "# ... and lists in tuples\n",
    "g = ([3, 4], [3], 0, [0.122, -0.1])\n",
    "\n",
    "# Indexing and slicing also work on tuples\n",
    "print('Indexing:')\n",
    "print(a[2:])\n",
    "print(g[3][0])\n",
    "print(f[:3])\n",
    "\n",
    "# Some functions we can use...\n",
    "print('\\nFunctions:')\n",
    "print(len(d))\n",
    "print(sorted(a))        # Note that sorted() still returns a list!\n",
    "print(tuple(sorted(a))) # Casting a list to a tuple\n",
    "print(list(d))          # Casting a tuple to a list\n",
    "\n",
    "# And some operators...\n",
    "print('\\nOperators:')\n",
    "print(d + c)\n",
    "print((2, -0.33) * 5)\n",
    "print(e in f)"
   ]
  },
  {
   "cell_type": "markdown",
   "metadata": {},
   "source": [
    "A useful feature is that variables can be **unpacked** from a tuple, meaning that we can, for example, assign the value of each element in a tuple to a different variable, in one line:"
   ]
  },
  {
   "cell_type": "code",
   "execution_count": 49,
   "metadata": {},
   "outputs": [
    {
     "name": "stdout",
     "output_type": "stream",
     "text": [
      "3.4, friday\n",
      "friday, 3.4\n"
     ]
    }
   ],
   "source": [
    "u, v, w = (3.4, 1, 'friday')\n",
    "print(f'{u}, {w}')\n",
    "\n",
    "# Swap 2 values\n",
    "u, w = w, u\n",
    "print(f'{u}, {w}')"
   ]
  },
  {
   "cell_type": "markdown",
   "metadata": {},
   "source": [
    "This is what you do when you write a function which returns multiple output values -- in reality, it returns one tuple containing the output values.\n",
    "\n",
    "---\n",
    "**Note:** Lists, tuples, and strings are examples of **sequences**, meaning that their elements (for a `str`, its characters) are *ordered*, and indexed by a number representing their position. Index slicing can also be used on any sequence type.\n",
    "\n",
    "---\n",
    "**📚 Learn more:**\n",
    "* [Tuples and Sequences - Python 3.7 documentation](https://docs.python.org/3/tutorial/datastructures.html?highlight=lists#tuples-and-sequences)\n",
    "* [Sequence types: list, tuple, range - Python 3.7 documentation](https://docs.python.org/3/library/stdtypes.html#sequence-types-list-tuple-range)\n",
    "---\n",
    "\n",
    "\n",
    "## Dictionaries\n",
    "\n",
    "A Python **dictionary** is a set of ***key-value* pairs**. Each value is indexed by a distinct key, which may be a number, a string, or a tuple of numbers or strings. (In contrast, each value in a list or a tuple is indexed by a positive integer, corresponding to its position.) Dictionary values can be any object (e.g. numbers, sequences, booleans, even other nested dictionaries).\n",
    "\n",
    "A dictionary can be created from a comma-separated list of `key: value` pairs, surrounded by curly brackets `{}`, for example"
   ]
  },
  {
   "cell_type": "code",
   "execution_count": 33,
   "metadata": {},
   "outputs": [
    {
     "name": "stdout",
     "output_type": "stream",
     "text": [
      "64\n"
     ]
    }
   ],
   "source": [
    "scores = {'Alice': 80, 'Bob': 64, 'Charlie': 72}\n",
    "print(scores['Bob'])"
   ]
  },
  {
   "cell_type": "markdown",
   "metadata": {},
   "source": [
    "<div style=\"width:70%;margin:auto;\">\n",
    "\n",
    "| `scores = {'Alice': 80, 'Bob': 64, 'Charlie': 72}` |\n",
    "|:--:|\n",
    "| ![The dictionary scores in memory](graphics/dict.png) |\n",
    "\n",
    "</div>\n",
    "\n",
    "Dictionaries are useful to hold data which it doesn't make sense to index by number -- here, for example, it's much easier to keep track of the students' grades if they're indexed with their name, instead of some arbitrary integer number.\n",
    "\n",
    "The following *dictionary methods* allow you to access the elements of a dictionary in different ways. Make sure to run the cell above beforehand to define the `scores` dictionary."
   ]
  },
  {
   "cell_type": "code",
   "execution_count": 34,
   "metadata": {},
   "outputs": [
    {
     "name": "stdout",
     "output_type": "stream",
     "text": [
      "{'Alice': 80, 'Bob': 64, 'Charlie': 72}\n",
      "[('Alice', 80), ('Bob', 64), ('Charlie', 72)]\n",
      "['Alice', 'Bob', 'Charlie']\n",
      "[80, 64, 72]\n"
     ]
    }
   ],
   "source": [
    "print(scores)                # Print the dictionary object\n",
    "print(list(scores.items()))  # Print dict items as a list of tuples\n",
    "print(list(scores.keys()))   # Print all keys in a list\n",
    "print(list(scores.values())) # Print all values in a list"
   ]
  },
  {
   "cell_type": "markdown",
   "metadata": {},
   "source": [
    "We can add and modify dictionary entries, or check whether a *key* exists in a dictionary:"
   ]
  },
  {
   "cell_type": "code",
   "execution_count": 35,
   "metadata": {},
   "outputs": [
    {
     "name": "stdout",
     "output_type": "stream",
     "text": [
      "{'First item': (4, 5), 'Second item': 'blue', (0, 1): True}\n",
      "3\n",
      "{'First item': (4, 5), 'Second item': 8.77, (0, 1): True}\n",
      "True\n",
      "False\n"
     ]
    }
   ],
   "source": [
    "# Create an empty dictionary\n",
    "my_dict = {}\n",
    "\n",
    "# Add 3 new items -- note that we don't need to append with dictionaries\n",
    "my_dict['First item'] = (4, 5)\n",
    "my_dict['Second item'] = 'blue'\n",
    "my_dict[(0, 1)] = True\n",
    "print(my_dict)\n",
    "print(len(my_dict))\n",
    "\n",
    "# Modify one item\n",
    "my_dict['Second item'] = 8.77\n",
    "print(my_dict)\n",
    "\n",
    "# Check if a key (not a value!) exists in the dictionary\n",
    "print((0, 1) in my_dict)\n",
    "print((4, 5) in my_dict)"
   ]
  },
  {
   "cell_type": "markdown",
   "metadata": {},
   "source": [
    "---\n",
    "**📚 Learn more:**\n",
    "* [Dictionaries - Python 3.7 documentation](https://docs.python.org/3/tutorial/datastructures.html?highlight=lists#dictionaries) - introduction and some examples.\n",
    "* [Mapping types - Dictionary - Python 3.7 documentation](https://docs.python.org/3/library/stdtypes.html#typesmapping) - includes a list of operations which dictionaries support.\n",
    "---\n",
    "\n",
    "🚩 ***Exercise 3:*** The dictionary `grades` below contains the grades that 3 students, Alice, Bob, and Charlie, obtained so far this semester in their school subjects. Complete the code (without touching the first 3 lines!) to:\n",
    "- update Alice's maths grade to a B, and\n",
    "- add a new C grade in English for Charlie,\n",
    "- add grades for a new student, Dara, with a B in maths and a D in history."
   ]
  },
  {
   "cell_type": "code",
   "execution_count": 50,
   "metadata": {},
   "outputs": [],
   "source": [
    "grades = {'Alice': {'maths': 'A', 'english': 'C', 'music': 'B'},\n",
    "          'Bob': {'maths': 'C', 'english': 'A', 'history': 'A'},\n",
    "          'Charlie': {'physics': 'D', 'music': 'A', 'biology': 'A'}}\n",
    "\n"
   ]
  },
  {
   "cell_type": "code",
   "execution_count": null,
   "metadata": {
    "tags": [
     "solution_cell"
    ]
   },
   "outputs": [],
   "source": [
    "%run scripts/show_solutions.py week06_ex3"
   ]
  },
  {
   "cell_type": "markdown",
   "metadata": {},
   "source": [
    "#### Looping over dictionaries\n",
    "\n",
    "A convenient way to loop over a dictionary uses the `.items()` method to return a list of tuples."
   ]
  },
  {
   "cell_type": "code",
   "execution_count": 54,
   "metadata": {},
   "outputs": [
    {
     "name": "stdout",
     "output_type": "stream",
     "text": [
      "The months of January, March, May, July, August, October, December, have 31 days.\n"
     ]
    }
   ],
   "source": [
    "months_length = {'January': 31, 'February': 28, 'March': 31 ,'April': 30,\n",
    "                 'May': 31 ,'June': 30, 'July': 31, 'August': 31, 'September': 30,\n",
    "                 'October': 31, 'November': 30, 'December': 31}\n",
    "\n",
    "out = 'The months of '\n",
    "\n",
    "for month, duration in months_length.items():\n",
    "    if duration == 31:\n",
    "        out = out + month + ', '\n",
    "\n",
    "out = out + 'have 31 days.'\n",
    "print(out)"
   ]
  },
  {
   "cell_type": "markdown",
   "metadata": {},
   "source": [
    "---\n",
    "🚩 ***Exercise 4:*** Build a new dictionary `grades_by_subject` by looping over `grades` (from Exercise 3), where the keys are the different subjects in `grades` and the values are nested dictionaries, where the keys are the students' names and the values are the grades."
   ]
  },
  {
   "cell_type": "code",
   "execution_count": null,
   "metadata": {},
   "outputs": [],
   "source": []
  },
  {
   "cell_type": "code",
   "execution_count": null,
   "metadata": {
    "tags": [
     "solution_cell"
    ]
   },
   "outputs": [],
   "source": [
    "%run scripts/show_solutions.py week06_ex4"
   ]
  },
  {
   "cell_type": "markdown",
   "metadata": {},
   "source": [
    "---\n",
    "\n",
    "## Iterables and iterators\n",
    "\n",
    "**Iterables** in Python are the technical name for anything that has an **order** and can be enumerated. For instance, when we make a loop `for ... in ...`, the sequence we are looping over is an iterable.\n",
    "- Some of the examples of iterables that we have seen so far are lists, strings, tuples, and ranges.\n",
    "- On the other hand, for example, `float`, `bool`, or `int` are not iterables (try starting a loop with `for i in 5:` and watch the error message!)\n",
    "\n",
    "**Iterators** are value producers which yield successive values from their associated iterable. In simple words, they are like bookmarks: whenever we call them, they return the value of a particular element of the iterable they are associated with, and then move the bookmark to the next element. The next time we call them, they pick the new element and move the bookmark forward again.  \n",
    "\n",
    "Below we create a list of powers of two using a list comprehension, and then create an iterator associated with this list using the function `iter()`. Once you created your iterator, you can call the function `next()` on it, and it yields the value of the element that your iterator is pointing at, and moves the bookmark forward. Next time you call `next()`, you get a next element of your list."
   ]
  },
  {
   "cell_type": "code",
   "execution_count": 60,
   "metadata": {},
   "outputs": [
    {
     "name": "stdout",
     "output_type": "stream",
     "text": [
      "[1, 2, 4, 8, 16, 32, 64, 128, 256, 512, 1024, 2048]\n",
      "1\n",
      "2\n"
     ]
    }
   ],
   "source": [
    "# create the list of powers of 2 from 1 to 2**12\n",
    "powers_two = [2**n for n in range(12)]\n",
    "print(powers_two)\n",
    "\n",
    "# create an iterator associated with 'powers_two'\n",
    "my_iter = iter(powers_two)\n",
    "\n",
    "# starting from the beginning call your iterator, see what happens\n",
    "print(next(my_iter))\n",
    "print(next(my_iter))"
   ]
  },
  {
   "cell_type": "markdown",
   "metadata": {},
   "source": [
    "In the follwoing loop, we try to pick the rest of the values of `powers_two`, from where it was left off.  "
   ]
  },
  {
   "cell_type": "code",
   "execution_count": 61,
   "metadata": {},
   "outputs": [
    {
     "name": "stdout",
     "output_type": "stream",
     "text": [
      "iteration number 0, and iterator is returning 4\n",
      "iteration number 1, and iterator is returning 8\n",
      "iteration number 2, and iterator is returning 16\n",
      "iteration number 3, and iterator is returning 32\n",
      "iteration number 4, and iterator is returning 64\n",
      "iteration number 5, and iterator is returning 128\n",
      "iteration number 6, and iterator is returning 256\n",
      "iteration number 7, and iterator is returning 512\n",
      "iteration number 8, and iterator is returning 1024\n",
      "iteration number 9, and iterator is returning 2048\n"
     ]
    }
   ],
   "source": [
    "for i in range(10):\n",
    "    print(f'iteration number {i}, and iterator is returning {next(my_iter)}')"
   ]
  },
  {
   "cell_type": "markdown",
   "metadata": {},
   "source": [
    "What will happen if you call `next()` one more time? Does the error make sense to you?"
   ]
  },
  {
   "cell_type": "code",
   "execution_count": 63,
   "metadata": {},
   "outputs": [
    {
     "ename": "StopIteration",
     "evalue": "",
     "output_type": "error",
     "traceback": [
      "\u001b[0;31m---------------------------------------------------------------------------\u001b[0m",
      "\u001b[0;31mStopIteration\u001b[0m                             Traceback (most recent call last)",
      "\u001b[0;32m<ipython-input-63-06f360df9455>\u001b[0m in \u001b[0;36m<module>\u001b[0;34m\u001b[0m\n\u001b[0;32m----> 1\u001b[0;31m \u001b[0mprint\u001b[0m\u001b[0;34m(\u001b[0m\u001b[0mnext\u001b[0m\u001b[0;34m(\u001b[0m\u001b[0mmy_iter\u001b[0m\u001b[0;34m)\u001b[0m\u001b[0;34m)\u001b[0m\u001b[0;34m\u001b[0m\u001b[0;34m\u001b[0m\u001b[0m\n\u001b[0m",
      "\u001b[0;31mStopIteration\u001b[0m: "
     ]
    }
   ],
   "source": [
    "print(next(my_iter))"
   ]
  },
  {
   "cell_type": "markdown",
   "metadata": {},
   "source": [
    "The advantage of iterators is that they don't need to occupy too much memory, because they only need to keep track of where they are and then how to generate the next value (as opposed to keeping all the values in the iterables like lists)!\n",
    "\n",
    "---\n",
    "**📚 Learn more:**\n",
    "\n",
    "- [Iterators](https://docs.python.org/3/tutorial/classes.html#iterators) - The Python tutorial\n",
    "\n",
    "From the Python documentation:\n",
    "- [The `iter` object](https://docs.python.org/3/glossary.html#term-iterator)\n",
    "- [Iterator](https://docs.python.org/3/glossary.html#term-iterator)\n",
    "- [`next()`](https://docs.python.org/3/library/functions.html#next)\n",
    "- [`StopIteration` exception](https://docs.python.org/3/library/exceptions.html#StopIteration)\n",
    "\n",
    "---\n",
    "\n",
    "## Generators\n",
    "\n",
    "Another object type that is closely related to iterators is the **generator**. Generators can be counted as one of the strengths of Python relative to other programming languages that don't have this feature.\n",
    "\n",
    "Generators are a way of defining a procedure to get the next number in a sequence. They can remember where they were left off in a sequence, and generate the next number each time they are called. To understand them let's consider the *infinite* sequence of square numbers\n",
    "\n",
    "$$\n",
    "{1,\\ 4,\\ 9,\\ 16,\\ 25,\\ ...,\\ n^2,\\ ...}\n",
    "$$\n",
    "\n",
    "Using functions and lists, we cannot produce an infinite sequence. At best we can write a function that takes an argument $N$ as an input and returns a list of square numbers up to $N^2$. This is not ideal! We want an object that can remember what the last square number it calculated was, and then generate the next square number the next time we call it. In this way, we have no limitation on the number of times we call this sequence producer (and we don't take up much memory). The beloved object that can manage to do this for us is **generator**.\n",
    "\n",
    "\n",
    "To define a generator, we write something that looks a little like a function, but instead of the `return` keyword we use `yield` to give a result from the generator.\n",
    "\n",
    "Note that each time a function reaches `return` statement, it returns its output and the compiler completely forgets what values were stored inside the function variables. Next time we call the function, it starts from the beginning and does not remember anything from the last time it was called. A generator is very different though:\n",
    "- The first time it is called (using `next()`), it starts from the beginning and executes commands until it reaches the first `yield` statement. At this point, it stops and yields the value.\n",
    "- The second time it is called, it starts from the previous `yield` statement and continues executing commands until it reaches the next `yield` statement. Then it stops again and yields the new value.\n",
    "- This procedure goes on each time we call the generator.\n",
    "\n",
    "In the example below we create the infinite sequence of square numbers and examine it:"
   ]
  },
  {
   "cell_type": "code",
   "execution_count": 71,
   "metadata": {},
   "outputs": [
    {
     "name": "stdout",
     "output_type": "stream",
     "text": [
      "<class 'function'>\n",
      "<class 'generator'>\n",
      "First for-loop:\n",
      "My square number is 1\n",
      "My square number is 4\n",
      "My square number is 9\n",
      "My square number is 16\n",
      "My square number is 25\n",
      "\n",
      "I am doing other things...\n",
      "\n",
      "I am printing the next square number after the first for-loop: 36\n",
      "\n",
      "Second for-loop:\n",
      "My square number is 49\n",
      "My square number is 64\n",
      "My square number is 81\n",
      "My square number is 100\n",
      "My square number is 121\n"
     ]
    }
   ],
   "source": [
    "def squares_func():\n",
    "    num = 1\n",
    "    while True:\n",
    "        yield num**2\n",
    "        num += 1\n",
    "\n",
    "# squares_func is a generator function:\n",
    "print(type(squares_func))\n",
    "\n",
    "# But the output of squares_func is a generator iterator:\n",
    "squares_gen = squares_func()\n",
    "print(type(squares_gen))\n",
    "\n",
    "print('First for-loop:')\n",
    "for i in range(5):\n",
    "    print(f'My square number is {next(squares_gen)}')\n",
    "    \n",
    "\n",
    "# Do other things in the code\n",
    "print('\\nI am doing other things...')\n",
    "\n",
    "print(f'\\nI am printing the next square number after the first for-loop: {next(squares_gen)}')\n",
    "\n",
    "print('\\nSecond for-loop:')\n",
    "for i in range(5):\n",
    "    print(f'My square number is {next(squares_gen)}')"
   ]
  },
  {
   "cell_type": "markdown",
   "metadata": {},
   "source": [
    "Generators can be a very memory efficient way to deal with a problem - a list is all stored in memory, but a generator is made as you go, you don’t have to store the whole thing at once.\n",
    "\n",
    "---\n",
    "**📚 Learn more:**\n",
    "\n",
    "- [Generators](https://docs.python.org/3/tutorial/classes.html#generators) - The Python tutorial\n",
    "- [generator, generator iterator](https://docs.python.org/3/glossary.html#term-generator) - The Python glossary\n",
    "- [Yield expressions](https://docs.python.org/3/reference/expressions.html#yieldexpr) - Python documentation\n",
    "\n",
    "---\n",
    "🚩 ***Exercise 5:*** In mathematics, the Perrin numbers are defined by the recurrence relation\n",
    "\n",
    "$$\n",
    "P(n) = P(n − 2) + P(n − 3), \\quad n > 2,\n",
    "$$\n",
    "with initial values\n",
    "$$\n",
    "P(0) = 3, P(1) = 0, P(2) = 2.\n",
    "$$\n",
    "\n",
    "Following this relation, the sequence of Perrin numbers starts with\n",
    "\n",
    "3, 0, 2, 3, 2, 5, 5, 7, 10, 12, 17, 22, 29, 39, ...\n",
    "\n",
    "Write a generator that produces an infinite sequence of Perrin numbers."
   ]
  },
  {
   "cell_type": "code",
   "execution_count": null,
   "metadata": {},
   "outputs": [],
   "source": []
  },
  {
   "cell_type": "code",
   "execution_count": null,
   "metadata": {
    "tags": [
     "solution_cell"
    ]
   },
   "outputs": [],
   "source": [
    "%run scripts/show_solutions.py week06_ex5"
   ]
  }
 ],
 "metadata": {
  "celltoolbar": "Tags",
  "kernelspec": {
   "display_name": "Python 3",
   "language": "python",
   "name": "python3"
  },
  "language_info": {
   "codemirror_mode": {
    "name": "ipython",
    "version": 3
   },
   "file_extension": ".py",
   "mimetype": "text/x-python",
   "name": "python",
   "nbconvert_exporter": "python",
   "pygments_lexer": "ipython3",
   "version": "3.7.6"
  }
 },
 "nbformat": 4,
 "nbformat_minor": 4
}
